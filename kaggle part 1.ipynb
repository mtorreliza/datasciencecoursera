{
 "cells": [
  {
   "cell_type": "markdown",
   "id": "3e58b288",
   "metadata": {},
   "source": [
    "# Introduction, data cleaning and EDA"
   ]
  },
  {
   "cell_type": "code",
   "execution_count": 7,
   "id": "65a023d4",
   "metadata": {},
   "outputs": [],
   "source": [
    "import pandas as pd\n",
    "import numpy as np\n",
    "from sklearn.feature_extraction.text import TfidfVectorizer\n",
    "from sklearn.decomposition import NMF\n",
    "import itertools\n",
    "from sklearn.metrics import accuracy_score, confusion_matrix\n",
    "import matplotlib.pyplot as plt\n",
    "from sklearn.naive_bayes import MultinomialNB\n",
    "\n",
    "train_raw = pd.read_csv(\"BBC News Train.csv\")\n",
    "\n",
    "test_raw = pd.read_csv(\"BBC News Test.csv\")\n",
    "\n",
    "train_raw['Text'] = train_raw['Text'].astype(\"string\")\n",
    "test_raw['Text'] = test_raw['Text'].astype(\"string\")"
   ]
  },
  {
   "cell_type": "markdown",
   "id": "b954a867",
   "metadata": {},
   "source": [
    "The code above simply handles all necessary imports and loads the data. The only cleaning/transformation needed is to make sure the text data is represented as a string. Below are some histograms/plots to visualize the data."
   ]
  },
  {
   "cell_type": "code",
   "execution_count": 27,
   "id": "67a4d266",
   "metadata": {},
   "outputs": [
    {
     "data": {
      "text/plain": [
       "Text(0.5, 1.0, 'Number of words in articles in train set')"
      ]
     },
     "execution_count": 27,
     "metadata": {},
     "output_type": "execute_result"
    },
    {
     "data": {
      "image/png": "[encoded data removed]",
      "text/plain": [
       "<Figure size 432x288 with 1 Axes>"
      ]
     },
     "metadata": {
      "needs_background": "light"
     },
     "output_type": "display_data"
    }
   ],
   "source": [
    "text_lengths = []\n",
    "for text in train_raw['Text']:\n",
    "    text_lengths.append(len(text.split()))\n",
    "plt.hist(text_lengths)\n",
    "plt.title(\"Number of words in articles in train set\")"
   ]
  },
  {
   "cell_type": "markdown",
   "id": "284e7b7c",
   "metadata": {},
   "source": [
    "Below are a few helper functions to perform model training and analysis:"
   ]
  },
  {
   "cell_type": "code",
   "execution_count": 2,
   "id": "72c9ee88",
   "metadata": {},
   "outputs": [],
   "source": [
    "def getLabelOrder(transformed):\n",
    "#method to determine which label in the model goes with which topic\n",
    "    \n",
    "    yp_ind = []\n",
    "\n",
    "    for transf in transformed:\n",
    "        m = 0\n",
    "        i = 0\n",
    "        for index, val in enumerate(transf):\n",
    "            if val > m:\n",
    "                m = val\n",
    "                i = index\n",
    "        yp_ind.append(i)\n",
    "\n",
    "    perms = itertools.permutations((0,1,2,3,4))\n",
    "\n",
    "    max_acc = 0\n",
    "\n",
    "    for perm in perms:\n",
    "        yp_try = []\n",
    "        label_dict = dict()\n",
    "        label_dict[perm[0]] = 'business'\n",
    "        label_dict[perm[1]] = 'entertainment'\n",
    "        label_dict[perm[2]] = 'politics'\n",
    "        label_dict[perm[3]] = 'sport'\n",
    "        label_dict[perm[4]] = 'tech'\n",
    "    \n",
    "        for label in yp_ind:\n",
    "            yp_try.append(label_dict[label])\n",
    "    \n",
    "        acc = accuracy_score(train_raw['Category'], yp_try)\n",
    "        if acc > max_acc:\n",
    "            max_acc = acc\n",
    "            max_perm = perm\n",
    "    \n",
    "    yp_lab, label_dict = assignLabels(yp_ind, max_perm)\n",
    "\n",
    "    return max_perm, max_acc, yp_lab, label_dict"
   ]
  },
  {
   "cell_type": "code",
   "execution_count": 3,
   "id": "5cb74515",
   "metadata": {},
   "outputs": [],
   "source": [
    "def assignLabels(yp_ind, order):\n",
    "#create label dictionary based on order determined by getLabelOrder\n",
    "    label_dict = dict()\n",
    "    label_dict[order[0]] = 'business'\n",
    "    label_dict[order[1]] = 'entertainment'\n",
    "    label_dict[order[2]] = 'politics'\n",
    "    label_dict[order[3]] = 'sport'\n",
    "    label_dict[order[4]] = 'tech'\n",
    "    yp_lab= []\n",
    "    for lab in yp_ind:\n",
    "        yp_lab.append(label_dict[lab])\n",
    "    confusion_matrix(train_raw['Category'], yp_lab)\n",
    "    return yp_lab, label_dict"
   ]
  },
  {
   "cell_type": "code",
   "execution_count": 4,
   "id": "2671dd28",
   "metadata": {},
   "outputs": [],
   "source": [
    "def predict(transformed, label_dict):\n",
    "#given a label dictionary and transformed data, return a list of appropriate labels (topics)\n",
    "    yp_ind = []\n",
    "\n",
    "    for transf in transformed:\n",
    "        m = 0\n",
    "        i = 0\n",
    "        for index, val in enumerate(transf):\n",
    "            if val > m:\n",
    "                m = val\n",
    "                i = index\n",
    "        yp_ind.append(i)\n",
    "\n",
    "    yp_lab = []\n",
    "    for lab in yp_ind:\n",
    "        yp_lab.append(label_dict[lab])\n",
    "    \n",
    "    return yp_lab"
   ]
  },
  {
   "cell_type": "code",
   "execution_count": 5,
   "id": "96f854ca",
   "metadata": {},
   "outputs": [],
   "source": [
    "def toCsv(data, num):\n",
    "#output a list of labels to a .csv file which can be uploaded to kaggle to determine accuracy on the test set\n",
    "    df = pd.DataFrame()\n",
    "    df['ArticleId'] = test_raw['ArticleId']\n",
    "    df['Category'] = data\n",
    "    df.to_csv(f'output{num:d}.csv', index=False)"
   ]
  },
  {
   "cell_type": "markdown",
   "id": "0c132606",
   "metadata": {},
   "source": [
    "# Model training and analysis"
   ]
  },
  {
   "cell_type": "markdown",
   "id": "de5566a5",
   "metadata": {},
   "source": [
    "The code below will vectorize the raw text data. I am using TF-IDF. This a method that counts the number of times a word appears in a document and compares it to the total number of documents that word appears in to get a better idea of just how important that word is."
   ]
  },
  {
   "cell_type": "code",
   "execution_count": 6,
   "id": "2e6a8362",
   "metadata": {},
   "outputs": [],
   "source": [
    "train_acc = []\n",
    "for i in range(1,11):    \n",
    "    tfidf_vectorizer = TfidfVectorizer(max_features=i*100, stop_words=\"english\")\n",
    "    X_train_tfidf = tfidf_vectorizer.fit_transform(train_raw['Text'])\n",
    "    X_test_tfidf = tfidf_vectorizer.fit_transform(test_raw['Text'])\n",
    "\n",
    "    nmf = NMF(n_components=5, max_iter=1000).fit(X_train_tfidf)\n",
    "\n",
    "    transformedtrain = nmf.transform(X_train_tfidf)\n",
    "    transformedtest = nmf.transform(X_test_tfidf)\n",
    "\n",
    "    order, acc, trainy_lab, label_dict = getLabelOrder(transformedtrain)\n",
    "    train_acc.append(acc)\n",
    "    testy_lab = predict(transformedtest, label_dict)\n",
    "\n",
    "    toCsv(testy_lab, i)"
   ]
  },
  {
   "cell_type": "code",
   "execution_count": 15,
   "id": "7df123ed",
   "metadata": {},
   "outputs": [
    {
     "data": {
      "text/plain": [
       "<matplotlib.legend.Legend at 0x2591c3f0af0>"
      ]
     },
     "execution_count": 15,
     "metadata": {},
     "output_type": "execute_result"
    },
    {
     "data": {
      "image/png": "[encoded data removed]",
      "text/plain": [
       "<Figure size 432x288 with 1 Axes>"
      ]
     },
     "metadata": {
      "needs_background": "light"
     },
     "output_type": "display_data"
    }
   ],
   "source": [
    "test_acc = [0.314, 0.449, 0.370, 0.291, 0.497, 0.376, 0.249, 0.268, 0.590, 0.573]\n",
    "\n",
    "max_features = [100, 200, 300, 400, 500, 600, 700, 800, 900, 1000]\n",
    "\n",
    "plt.plot(max_features, train_acc, label=\"Train accuracy\")\n",
    "plt.plot(max_features, test_acc, label=\"Test accuracy\")\n",
    "plt.title(\"Maximum features vs. accuracy\")\n",
    "plt.legend()"
   ]
  },
  {
   "cell_type": "markdown",
   "id": "1ee56dbb",
   "metadata": {},
   "source": [
    "The graph above shows the train and test accuracy for the max_features parameter, which is part of the TF-IDF process. The max_features determines how many words to consider as significant in the model; for instance, if it is $100$, that means only the $100$ most frequent words will be used to classify the text.\n",
    "\n",
    "Train accuracy steadily improves as max_features increases, but test accuracy is more variable, reaching its highest point at $900$."
   ]
  },
  {
   "cell_type": "code",
   "execution_count": 24,
   "id": "b5160ddc",
   "metadata": {},
   "outputs": [
    {
     "name": "stdout",
     "output_type": "stream",
     "text": [
      "Train accuracy for\n",
      "Bayes: 0.970470\n",
      "NMF: 0.885906\n"
     ]
    }
   ],
   "source": [
    "tfidf_vectorizer = TfidfVectorizer(max_features=900, stop_words=\"english\")\n",
    "X_train_tfidf = tfidf_vectorizer.fit_transform(train_raw['Text'])\n",
    "X_test_tfidf = tfidf_vectorizer.fit_transform(test_raw['Text'])\n",
    "\n",
    "clf = MultinomialNB().fit(X_train_tfidf, train_raw['Category'])\n",
    "\n",
    "print(\"Train accuracy for\\nBayes: %f\" % clf.score(X_train_tfidf, train_raw['Category']))\n",
    "print(\"NMF: %f\" % train_acc[8])\n",
    "\n",
    "toCsv(clf.predict(X_test_tfidf), 11)"
   ]
  },
  {
   "cell_type": "markdown",
   "id": "e124868d",
   "metadata": {},
   "source": [
    "For the supervised learning method, I chose a naive Bayes classifier. Training accuracy for naive Bayes ($0.970$) was superior to NMF ($0.886$). However, test accuracy was identical for both ($0.590$)."
   ]
  },
  {
   "cell_type": "markdown",
   "id": "be75ebb8",
   "metadata": {},
   "source": [
    "# References"
   ]
  },
  {
   "cell_type": "markdown",
   "id": "d52efd74",
   "metadata": {},
   "source": [
    "Duque, T. (2020, November 13). How to turn text into features. Towards Data Science. Retrieved June 21, 2022, from https://towardsdatascience.com/how-to-turn-text-into-features-478b57632e99 "
   ]
  },
  {
   "cell_type": "code",
   "execution_count": null,
   "id": "1138361c",
   "metadata": {},
   "outputs": [],
   "source": []
  }
 ],
 "metadata": {
  "kernelspec": {
   "display_name": "Python 3",
   "language": "python",
   "name": "python3"
  },
  "language_info": {
   "codemirror_mode": {
    "name": "ipython",
    "version": 3
   },
   "file_extension": ".py",
   "mimetype": "text/x-python",
   "name": "python",
   "nbconvert_exporter": "python",
   "pygments_lexer": "ipython3",
   "version": "3.8.8"
  }
 },
 "nbformat": 4,
 "nbformat_minor": 5
}
